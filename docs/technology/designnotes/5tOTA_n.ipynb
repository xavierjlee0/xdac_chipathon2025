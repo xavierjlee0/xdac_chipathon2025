{
 "cells": [
  {
   "cell_type": "code",
   "execution_count": 275,
   "id": "1f687dc8",
   "metadata": {},
   "outputs": [],
   "source": [
    "##Code in this file has been modified from Boris Murmann's github below, and the open-source textbook from Harald Pretl and colleagues:\n",
    "# https://github.com/bmurmann/Book-on-gm-ID-design/blob/main/starter_files_open_source_tools/gf180mcuD/techsweep_plots_from_mat.ipynb\n",
    "# Murmann and his colleague have written a book on gm/id-based design, \"Systematic Design of Analog CMOS Circuits\" (2017)\n",
    "\n",
    "#Pretl's Open-Source Book: https://iic-jku.github.io/analog-circuit-design/analog_circuit_design.pdf\n",
    "\n",
    "# Copyright 2024 Harald Pretl\n",
    "# Licensed under the Apache License, Version 2.0 (the “License”); you may not use this\n",
    "# file except in compliance with the License. You may obtain a copy of the License at\n",
    "# http://www.apache.org/licenses/LICENSE-2.0\n",
    "\n",
    "\n",
    "import numpy as np\n",
    "import scipy.constants as sc\n",
    "import matplotlib.pyplot as plt\n",
    "from pygmid import Lookup as lk\n",
    "\n",
    "nfet = lk('../nfet_03v3.mat')\n",
    "pfet = lk('../pfet_03v3.mat')\n",
    "VDS1 = 1.65"
   ]
  },
  {
   "cell_type": "code",
   "execution_count": 276,
   "id": "5fdcb44c",
   "metadata": {},
   "outputs": [],
   "source": [
    "# define the given parameters as taken from the specification table or inital guesses\n",
    "c_load = 4e-12 #Expected given parasitics + breadboard mounting of device\n",
    "gm_id_m12 = 12\n",
    "gm_id_m34 = 5\n",
    "gm_id_m56 = 5\n",
    "l_12 = 1\n",
    "l_34 = 1\n",
    "l_56 = 1\n",
    "f_bw = 1e6 # -3dB bandwidth of the voltage buffer\n",
    "i_total_limit = 50e-6\n",
    "i_bias_in = 20e-6\n",
    "output_voltage = 1.65\n",
    "vin_min = 1\n",
    "vin_max = 2.8\n",
    "vdd_min = 3.2\n",
    "vdd_max = 3.4"
   ]
  },
  {
   "cell_type": "code",
   "execution_count": 277,
   "id": "231ada4f",
   "metadata": {},
   "outputs": [
    {
     "name": "stdout",
     "output_type": "stream",
     "text": [
      "gm12 = 0.1508 mS\n",
      "i_total (exact) = 25.1 µA\n",
      "i_total (rounded) = 25.0 µA\n",
      "[info] power consumption target is met!\n"
     ]
    }
   ],
   "source": [
    "# we get the required gm of M1/2 from the -3dB bandwidth requirement of the voltage buff# note that the -3dB bandwidth of the voltage buffer with gain Av=1 is equal to the unit# of the ota, hence we wet them equal here\n",
    "# we add a factor of 3 to allow for PVT variation plus additional MOSFET parasitic loadi\n",
    "gm_m12 = f_bw * 3 * 4*np.pi*c_load \n",
    "print('gm12 =', round(gm_m12/1e-3, 4), 'mS')\n",
    "\n",
    "# since we know gm12 and the gmid we can calculate the bias current\n",
    "id_m12 = gm_m12 / gm_id_m12\n",
    "i_total = 2*id_m12\n",
    "print('i_total (exact) =', round(i_total/1e-6, 1), 'µA')\n",
    "\n",
    "# we round to 0.5µA bias currents\n",
    "i_total = max(round(i_total / 1e-6 * 2) / 2 * 1e-6, 0.5e-6)\n",
    "id_m12 = i_total/2\n",
    "print('i_total (rounded) =', i_total/1e-6, 'µA')\n",
    "if i_total < i_total_limit:\n",
    "    print('[info] power consumption target is met!')\n",
    "else:\n",
    "    print('[info] power consumption target is NOT met!')\n"
   ]
  },
  {
   "cell_type": "code",
   "execution_count": null,
   "id": "c997918d",
   "metadata": {},
   "outputs": [],
   "source": []
  },
  {
   "cell_type": "code",
   "execution_count": 278,
   "id": "2374c5a9",
   "metadata": {},
   "outputs": [
    {
     "name": "stdout",
     "output_type": "stream",
     "text": [
      "a0 = 48.5 dB\n"
     ]
    }
   ],
   "source": [
    "# we calculate the dc gain\n",
    "\n",
    "#Intrinsic gain of mirrors and diff pair\n",
    "gm_gds_m12 = nfet.lookup('GM_GDS', GM_ID=gm_id_m12, L=l_12, VDS=VDS1, VSB=0)\n",
    "gm_gds_m34 = pfet.lookup('GM_GDS', GM_ID=gm_id_m34, L=l_34, VDS=VDS1, VSB=0)\n",
    "\n",
    "#get diff pair gds values\n",
    "gds_m12 = gm_m12 / gm_gds_m12\n",
    "\n",
    "#get current mirror gds, gm\n",
    "gm_m34 = gm_id_m34 * i_total/2\n",
    "gds_m34 = gm_m34 / gm_gds_m34\n",
    "\n",
    "a0 = gm_m12 / (gds_m12 + gds_m34)\n",
    "print('a0 =', round(20*np.log10(a0), 1), 'dB')\n"
   ]
  },
  {
   "cell_type": "code",
   "execution_count": 279,
   "id": "a8cbc1b4",
   "metadata": {},
   "outputs": [
    {
     "name": "stdout",
     "output_type": "stream",
     "text": [
      "additional load capacitance = 30.6 fF\n",
      "unity gain bandwidth incl. parasitics = 2.98 MHz\n"
     ]
    }
   ],
   "source": [
    "# we calculate the MOSFET capacitance which adds to Cload, to see the impact on the BW\n",
    "gm_cgs_m12 = nfet.lookup('GM_CGS', GM_ID=gm_id_m12, L=l_12, VDS=VDS1, VSB=0)\n",
    "gm_cdd_m12 = nfet.lookup('GM_CDD', GM_ID=gm_id_m12, L=l_12, VDS=VDS1, VSB=0)\n",
    "gm_cdd_m34 = pfet.lookup('GM_CDD', GM_ID=gm_id_m34, L=l_34, VDS=VDS1, VSB=0)\n",
    "c_load_parasitic = abs(gm_m12/gm_cgs_m12) + abs(gm_m12/gm_cdd_m12) + abs(gm_m34/gm_cdd_m34)\n",
    "print('additional load capacitance =', round(c_load_parasitic/1e-15, 1), 'fF')\n",
    "f_bw = gm_m12 / (4*np.pi * (c_load + c_load_parasitic))\n",
    "print('unity gain bandwidth incl. parasitics =', round(f_bw/1e6, 2), 'MHz')"
   ]
  },
  {
   "cell_type": "code",
   "execution_count": 280,
   "id": "14d43366",
   "metadata": {},
   "outputs": [
    {
     "name": "stdout",
     "output_type": "stream",
     "text": [
      "vgs_12 = 0.789 V\n",
      "vgs_34 = 1.148 V\n",
      "vgs_56 = 1.037 V\n"
     ]
    }
   ],
   "source": [
    "vgs_m12 = nfet.look_upVGS(GM_ID=gm_id_m12, L=l_12, VDS=VDS1, VSB=0.0)\n",
    "vgs_m34 = pfet.look_upVGS(GM_ID=gm_id_m34, L=l_34, VDS=VDS1, VSB=0.0)\n",
    "vgs_m56 = nfet.look_upVGS(GM_ID=gm_id_m56, L=l_56, VDS=VDS1, VSB=0.0)\n",
    "print('vgs_12 =', round(float(vgs_m12), 3), 'V')\n",
    "print('vgs_34 =', round(float(vgs_m34), 3), 'V')\n",
    "print('vgs_56 =', round(float(vgs_m56), 3), 'V')\n"
   ]
  },
  {
   "cell_type": "code",
   "execution_count": 281,
   "id": "8a30a9bc",
   "metadata": {},
   "outputs": [
    {
     "name": "stdout",
     "output_type": "stream",
     "text": [
      "slewing time = 0.266 µs\n",
      "settling time = 0.267 µs\n"
     ]
    }
   ],
   "source": [
    "# calculate settling time due to slewing with the calculated bias current\n",
    "t_slew = (c_load + c_load_parasitic) * output_voltage / i_total\n",
    "print('slewing time =', round(t_slew/1e-6, 3), 'µs')\n",
    "t_settle = 5/(2*np.pi*f_bw)\n",
    "print('settling time =', round(t_settle/1e-6, 3), 'µs')"
   ]
  },
  {
   "cell_type": "code",
   "execution_count": 282,
   "id": "b73311c4",
   "metadata": {},
   "outputs": [
    {
     "name": "stdout",
     "output_type": "stream",
     "text": [
      "voltage gain error = -0.4 %\n"
     ]
    }
   ],
   "source": [
    "# calculate voltage gain error\n",
    "gain_error = a0 / (1 + a0)\n",
    "print('voltage gain error =', round((gain_error-1)*100, 1), '%')"
   ]
  },
  {
   "cell_type": "code",
   "execution_count": 283,
   "id": "5b7059ec",
   "metadata": {},
   "outputs": [
    {
     "name": "stdout",
     "output_type": "stream",
     "text": [
      "output noise = 48.1 µVrms\n"
     ]
    }
   ],
   "source": [
    "# calculate total rms output noise\n",
    "sth_m12 = nfet.lookup('STH_GM', VGS=vgs_m12, L=l_12, VDS=0.75, VSB=0) * gm_m12\n",
    "gamma_m12 = sth_m12/(4*1.38e-23*300*gm_m12)\n",
    "sth_m34 = pfet.lookup('STH_GM', VGS=vgs_m34, L=l_34, VDS=0.75, VSB=0) * gm_m34\n",
    "gamma_m34 = sth_m34/(4*1.38e-23*300*gm_m34)\n",
    "output_noise_rms = np.sqrt(1.38e-23*300 / (c_load + c_load_parasitic) * (2*gamma_m12 + 2*gamma_m34*gm_m34/gm_m12))\n",
    "print('output noise =', round(output_noise_rms/1e-6, 1), 'µVrms')\n"
   ]
  },
  {
   "cell_type": "code",
   "execution_count": 284,
   "id": "a2249cdc",
   "metadata": {},
   "outputs": [
    {
     "name": "stdout",
     "output_type": "stream",
     "text": [
      "M1/2 W = 9.09 um, rounded W = 9.0 um\n",
      "M3/4 W = 5.69 um, rounded W = 5.5 um\n",
      "M5 W = 2.69 um, rounded W = 2.5 um\n",
      "M6 W = 2.0 um\n"
     ]
    }
   ],
   "source": [
    "# calculate all widths\n",
    "id_w_m12 = nfet.lookup('ID_W', GM_ID=gm_id_m12, L=l_12, VDS=vgs_m12, VSB=0)\n",
    "w_12 = id_m12 / id_w_m12\n",
    "w_12_round = max(round(w_12*2)/2, 0.5)\n",
    "print('M1/2 W =', round(w_12, 2), 'um, rounded W =', w_12_round, 'um')\n",
    "id_m34 = id_m12\n",
    "id_w_m34 = pfet.lookup('ID_W', GM_ID=gm_id_m34, L=l_34, VDS=vgs_m34, VSB=0)\n",
    "w_34 = id_m34 / id_w_m34\n",
    "w_34_round = max(round(w_34*2)/2, 0.5)\n",
    "print('M3/4 W =', round(w_34, 2), 'um, rounded W =', w_34_round, 'um')\n",
    "id_w_m5 = nfet.lookup('ID_W', GM_ID=gm_id_m56, L=l_56, VDS=vgs_m56, VSB=0)\n",
    "w_5 = i_total / id_w_m5\n",
    "w_5_round = max(round(w_5*2)/2, 0.5)\n",
    "print('M5 W =', round(w_5, 2), 'um, rounded W =', w_5_round, 'um')\n",
    "w_6 = w_5_round * i_bias_in / i_total\n",
    "w_6_round = max(round(w_6*2)/2, 0.5)\n",
    "print('M6 W =', round(w_6_round, 2), 'um')\n"
   ]
  },
  {
   "cell_type": "code",
   "execution_count": null,
   "id": "42f089b7",
   "metadata": {},
   "outputs": [],
   "source": [
    "# Estimate current mirror pole positions\n"
   ]
  }
 ],
 "metadata": {
  "kernelspec": {
   "display_name": "base",
   "language": "python",
   "name": "python3"
  },
  "language_info": {
   "codemirror_mode": {
    "name": "ipython",
    "version": 3
   },
   "file_extension": ".py",
   "mimetype": "text/x-python",
   "name": "python",
   "nbconvert_exporter": "python",
   "pygments_lexer": "ipython3",
   "version": "3.12.3"
  }
 },
 "nbformat": 4,
 "nbformat_minor": 5
}
