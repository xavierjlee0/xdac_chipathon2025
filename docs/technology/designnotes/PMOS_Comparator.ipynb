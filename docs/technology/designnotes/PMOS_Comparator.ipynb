{
 "cells": [
  {
   "cell_type": "code",
   "execution_count": 6,
   "id": "1f687dc8",
   "metadata": {},
   "outputs": [],
   "source": [
    "##Code in this file has been modified from Boris Murmann's github below, and the open-source textbook from Harald Pretl and colleagues:\n",
    "# https://github.com/bmurmann/Book-on-gm-ID-design/blob/main/starter_files_open_source_tools/gf180mcuD/techsweep_plots_from_mat.ipynb\n",
    "# Murmann and his colleague have written a book on gm/id-based design, \"Systematic Design of Analog CMOS Circuits\" (2017)\n",
    "\n",
    "#Pretl's Open-Source Book: https://iic-jku.github.io/analog-circuit-design/analog_circuit_design.pdf\n",
    "\n",
    "# Copyright 2024 Harald Pretl\n",
    "# Licensed under the Apache License, Version 2.0 (the “License”); you may not use this\n",
    "# file except in compliance with the License. You may obtain a copy of the License at\n",
    "# http://www.apache.org/licenses/LICENSE-2.0\n",
    "\n",
    "\n",
    "import numpy as np\n",
    "import scipy.constants as sc\n",
    "import matplotlib.pyplot as plt\n",
    "from pygmid import Lookup as lk\n",
    "\n",
    "nfet = lk('nfet_03v3.mat')\n",
    "pfet = lk('pfet_03v3.mat')\n",
    "VDS1 = 1.65"
   ]
  },
  {
   "cell_type": "code",
   "execution_count": 35,
   "id": "5fdcb44c",
   "metadata": {},
   "outputs": [],
   "source": [
    "# define the given parameters as taken from the specification table or inital guesses\n",
    "c_load = 2e-12 #Expected given parasitics + breadboard mounting of device (from Xaiver)\n",
    "gm_id_mirror = 6.5\n",
    "gm_id_diff = 6.5\n",
    "gm_id_amp = 8\n",
    "gm_id_pop = 11\n",
    "gm_id_nop= 8\n",
    "#length in microns\n",
    "l_mirror = 1\n",
    "l_diff = 1\n",
    "l_amp = 1\n",
    "l_pop = 0.6\n",
    "l_nop = 1\n",
    "\n",
    "# Current Source Limitations\n",
    "i_bias_in = 10e-6               #Reference current is 10uA. Note that if some internal design uses something like 30uA, you can mirror that value too\n",
    "w_m6 = 3.5                      #UNIT NMOS WIDTH\n",
    "l_56 = 1                        #UNIT NMOS LENGTH\n",
    "\n",
    "\n",
    "#ignore for now\n",
    "f_bw = 800e3 # -3dB bandwidth of the voltage buffer\n",
    "i_total_limit = 50e-6\n",
    "i_bias_in = 10e-6\n",
    "output_voltage = 1.65\n",
    "vin_min = 1\n",
    "vin_max = 2.8\n",
    "vdd_min = 3.2\n",
    "vdd_max = 3.4"
   ]
  },
  {
   "cell_type": "code",
   "execution_count": 36,
   "id": "231ada4f",
   "metadata": {},
   "outputs": [
    {
     "name": "stdout",
     "output_type": "stream",
     "text": [
      "gm12 = 0.0603 mS\n"
     ]
    },
    {
     "ename": "NameError",
     "evalue": "name 'gm_id_m12' is not defined",
     "output_type": "error",
     "traceback": [
      "\u001b[31m---------------------------------------------------------------------------\u001b[39m",
      "\u001b[31mNameError\u001b[39m                                 Traceback (most recent call last)",
      "\u001b[36mCell\u001b[39m\u001b[36m \u001b[39m\u001b[32mIn[36]\u001b[39m\u001b[32m, line 7\u001b[39m\n\u001b[32m      4\u001b[39m \u001b[38;5;28mprint\u001b[39m(\u001b[33m'\u001b[39m\u001b[33mgm12 =\u001b[39m\u001b[33m'\u001b[39m, \u001b[38;5;28mround\u001b[39m(gm_m12/\u001b[32m1e-3\u001b[39m, \u001b[32m4\u001b[39m), \u001b[33m'\u001b[39m\u001b[33mmS\u001b[39m\u001b[33m'\u001b[39m)\n\u001b[32m      6\u001b[39m \u001b[38;5;66;03m# since we know gm12 and the gmid we can calculate the bias current\u001b[39;00m\n\u001b[32m----> \u001b[39m\u001b[32m7\u001b[39m id_m12 = gm_m12 / \u001b[43mgm_id_m12\u001b[49m\n\u001b[32m      8\u001b[39m i_total = \u001b[32m2\u001b[39m*id_m12\n\u001b[32m      9\u001b[39m \u001b[38;5;28mprint\u001b[39m(\u001b[33m'\u001b[39m\u001b[33mi_total (exact) =\u001b[39m\u001b[33m'\u001b[39m, \u001b[38;5;28mround\u001b[39m(i_total/\u001b[32m1e-6\u001b[39m, \u001b[32m1\u001b[39m), \u001b[33m'\u001b[39m\u001b[33mµA\u001b[39m\u001b[33m'\u001b[39m)\n",
      "\u001b[31mNameError\u001b[39m: name 'gm_id_m12' is not defined"
     ]
    }
   ],
   "source": [
    "# we get the required gm of M1/2 from the -3dB bandwidth requirement of the voltage buffer\n",
    "# we add a factor of 3 to allow for PVT variation plus additional MOSFET parasitic loading\n",
    "gm_m12 = f_bw * 3 * 4*np.pi*c_load \n",
    "print('gm12 =', round(gm_m12/1e-3, 4), 'mS')\n",
    "\n",
    "# since we know gm12 and the gmid we can calculate the bias current\n",
    "id_m12 = gm_m12 / gm_id_m12\n",
    "i_total = 2*id_m12\n",
    "print('i_total (exact) =', round(i_total/1e-6, 1), 'µA')\n",
    "\n",
    "# we round to 0.5µA bias currents\n",
    "i_total = max(round(i_total / 1e-6 * 2) / 2 * 1e-6, 0.5e-6)\n",
    "id_m12 = i_total/2\n",
    "print('i_total (rounded) =', i_total/1e-6, 'µA')\n",
    "if i_total < i_total_limit:\n",
    "    print('[info] power consumption target is met!')\n",
    "else:\n",
    "    print('[info] power consumption target is NOT met!')\n"
   ]
  },
  {
   "cell_type": "code",
   "execution_count": 37,
   "id": "c997918d",
   "metadata": {},
   "outputs": [
    {
     "name": "stdout",
     "output_type": "stream",
     "text": [
      "gm_mirror 130.0 uS\n",
      "gm_diff 160.0 uS\n",
      "gm_amp 160.0 uS\n",
      "gm_pop 220.0 uS\n",
      "gm_nop 160.0 uS\n"
     ]
    }
   ],
   "source": [
    "# Calculate gm values\n",
    "\n",
    "#current current mirror output\n",
    "I_m=i_bias_in * 2\n",
    "\n",
    "#gm values since majority current is pulled to whichever transistor is on\n",
    "gm_mirror = gm_id_mirror * I_m\n",
    "gm_diff = gm_id_diff * I_m\n",
    "gm_amp = gm_id_amp * I_m\n",
    "gm_pop = gm_id_pop * I_m\n",
    "gm_nop = gm_id_nop * I_m\n",
    "\n",
    "#print the gm values for reference\n",
    "print('gm_mirror', round(gm_mirror * 10e5, 1), 'uS')\n",
    "print('gm_diff', round(gm_amp * 10e5,1), 'uS')\n",
    "print('gm_amp', round(gm_amp * 10e5, 1), 'uS')\n",
    "print('gm_pop', round(gm_pop * 10e5, 1), 'uS')\n",
    "print('gm_nop', round(gm_nop * 10e5, 1), 'uS')\n"
   ]
  },
  {
   "cell_type": "code",
   "execution_count": 38,
   "id": "2374c5a9",
   "metadata": {},
   "outputs": [
    {
     "name": "stdout",
     "output_type": "stream",
     "text": [
      "gm_gds_mirror 448.05342823783684\n",
      "a_mirror = 53.0 dB\n",
      "a_diff = 53.0 dB\n",
      "a_amp = 51.2 dB\n",
      "a_diff_amp = 45.0 dB\n",
      "a_nop = 51.2 dB\n",
      "a_pop = 51.8 dB\n",
      "gm_gds_mirror 448.05342823783684\n",
      "gm_gds_diff 448.05342823783684\n",
      "gm_gds_amp 363.41541415315965\n",
      "gm_gds_nop 363.41541415315965\n",
      "gm_gds_pop 388.1896364519071\n"
     ]
    }
   ],
   "source": [
    "# we calculate the dc gain\n",
    "\n",
    "#Intrinsic gain of circuit topologies\n",
    "\n",
    "#pmos\n",
    "gm_gds_mirror = pfet.lookup('GM_GDS', GM_ID=gm_id_mirror, L=l_mirror, VDS=VDS1, VSB=0)\n",
    "gm_gds_diff = pfet.lookup('GM_GDS', GM_ID=gm_id_diff, L=l_diff, VDS=VDS1, VSB=0)\n",
    "gm_gds_pop = pfet.lookup('GM_GDS', GM_ID=gm_id_pop, L=l_pop, VDS=VDS1, VSB=0)\n",
    "\n",
    "print('gm_gds_mirror', gm_gds_mirror)\n",
    "#nmos\n",
    "gm_gds_amp = nfet.lookup('GM_GDS', GM_ID=gm_id_amp, L=l_amp, VDS=VDS1, VSB=0)\n",
    "gm_gds_nop = nfet.lookup('GM_GDS', GM_ID=gm_id_nop, L=l_nop, VDS=VDS1, VSB=0)\n",
    "\n",
    "#current mirror gds and intrinsic gain values \n",
    "gds_mirror = gm_mirror / gm_gds_mirror\n",
    "print('a_mirror =', round(20*np.log10(gm_gds_mirror), 1), 'dB')\n",
    "\n",
    "#diff pair gds and intrinsic gain values\n",
    "gds_diff = gm_diff / gm_gds_diff\n",
    "print('a_diff =', round(20*np.log10(gm_gds_diff), 1), 'dB')\n",
    "\n",
    "#amp gds and intrinsic gain of amp & amp-diff topology\n",
    "gds_amp = gm_amp / gm_gds_amp\n",
    "print('a_amp =', round(20*np.log10(gm_gds_amp), 1), 'dB')\n",
    "a_diff_amp = gm_diff/ (gds_amp + gds_diff)\n",
    "print('a_diff_amp =', round(20*np.log10(a_diff_amp), 1), 'dB')\n",
    "\n",
    "#output gain for gm/id expectation reference\n",
    "print('a_nop =', round(20*np.log10(gm_gds_nop), 1), 'dB')\n",
    "print('a_pop =', round(20*np.log10(gm_gds_pop), 1), 'dB')\n",
    "\n",
    "#unitless gain for comparasion with techsweep plots\n",
    "print('gm_gds_mirror', gm_gds_mirror)\n",
    "print('gm_gds_diff', gm_gds_diff)\n",
    "print('gm_gds_amp', gm_gds_amp)\n",
    "print('gm_gds_nop', gm_gds_nop)\n",
    "print('gm_gds_pop', gm_gds_pop)"
   ]
  },
  {
   "cell_type": "code",
   "execution_count": 39,
   "id": "a8cbc1b4",
   "metadata": {},
   "outputs": [
    {
     "name": "stdout",
     "output_type": "stream",
     "text": [
      "additional load capacitance = 10.6 fF\n",
      "unity gain bandwidth incl. parasitics = 6.33 MHz\n"
     ]
    }
   ],
   "source": [
    "# we calculate the MOSFET capacitance which adds to Cload, to see the impact on the BW\n",
    "\n",
    "gm_cgs_diff = pfet.lookup('GM_CGS', GM_ID=gm_id_diff, L=l_diff, VDS=VDS1, VSB=0)\n",
    "gm_cdd_diff = pfet.lookup('GM_CDD', GM_ID=gm_id_diff, L=l_diff, VDS=VDS1, VSB=0)\n",
    "gm_cgs_amp = nfet.lookup('GM_CGS', GM_ID=gm_id_amp, L=l_amp, VDS=VDS1, VSB=0)\n",
    "gm_cdd_amp = nfet.lookup('GM_CDD', GM_ID=gm_id_amp, L=l_amp, VDS=VDS1, VSB=0)\n",
    "gm_cgs_nop = nfet.lookup('GM_CGS', GM_ID=gm_id_pop, L=l_pop, VDS=VDS1, VSB=0)\n",
    "gm_cdd_nop = nfet.lookup('GM_CDD', GM_ID=gm_id_pop, L=l_pop, VDS=VDS1, VSB=0)\n",
    "\n",
    "#Parasitic Capacitance\n",
    "c_diff = abs(gm_diff/gm_cgs_diff) + abs(gm_diff/gm_cdd_diff)\n",
    "c_amp = abs(gm_amp/gm_cdd_amp) + abs(gm_amp/gm_cgs_amp)\n",
    "c_pop = abs(gm_pop/gm_cdd_nop) + abs(gm_amp/gm_cgs_nop)\n",
    "c_load_parasitic = 1 / (1 / (c_diff + c_amp) + 1 / c_pop )\n",
    "\n",
    "print('additional load capacitance =', round(c_load_parasitic/1e-15, 1), 'fF')\n",
    "\n",
    "#ignore\n",
    "f_bw = gm_nop / (4*np.pi * (c_load + c_load_parasitic))\n",
    "print('unity gain bandwidth incl. parasitics =', round(f_bw/1e6, 2), 'MHz')"
   ]
  },
  {
   "cell_type": "code",
   "execution_count": 40,
   "id": "14d43366",
   "metadata": {},
   "outputs": [
    {
     "name": "stdout",
     "output_type": "stream",
     "text": [
      "vgs_mirror = 1.058 V\n",
      "vgs_diff = 1.058 V\n",
      "vgs_amp = 0.889 V\n",
      "vgs_nop = 0.889 V\n",
      "vgs_pop = 0.923 V\n"
     ]
    }
   ],
   "source": [
    "#Calculate Vgs\n",
    "\n",
    "vgs_mirror = pfet.look_upVGS(GM_ID=gm_id_mirror, L=l_mirror, VDS=VDS1, VSB=0.0)\n",
    "vgs_diff = pfet.look_upVGS(GM_ID=gm_id_diff, L=l_diff, VDS=VDS1, VSB=0.0)\n",
    "vgs_amp = nfet.look_upVGS(GM_ID=gm_id_amp, L=l_amp, VDS=VDS1, VSB=0.0)\n",
    "vgs_nop = nfet.look_upVGS(GM_ID=gm_id_nop, L=l_nop, VDS=VDS1, VSB=0.0)\n",
    "vgs_pop = pfet.look_upVGS(GM_ID=gm_id_pop, L=l_pop, VDS=VDS1, VSB=0.0)\n",
    "\n",
    "#Print the values of Vgs\n",
    "print('vgs_mirror =', round(float(vgs_mirror), 3), 'V')\n",
    "print('vgs_diff =', round(float(vgs_diff), 3), 'V')\n",
    "print('vgs_amp =', round(float(vgs_amp), 3), 'V')\n",
    "print('vgs_nop =', round(float(vgs_nop), 3), 'V')\n",
    "print('vgs_pop =', round(float(vgs_pop), 3), 'V')\n",
    "\n"
   ]
  },
  {
   "cell_type": "code",
   "execution_count": 41,
   "id": "8a30a9bc",
   "metadata": {},
   "outputs": [
    {
     "name": "stdout",
     "output_type": "stream",
     "text": [
      "slewing time = 0.332 µs\n",
      "settling time = 0.126 µs\n"
     ]
    }
   ],
   "source": [
    "# calculate settling time due to slewing with the calculated bias current\n",
    "vout = 3.3\n",
    "t_slew = (c_load + c_load_parasitic) * vout / I_m\n",
    "print('slewing time =', round(t_slew/1e-6, 3), 'µs')\n",
    "t_settle = 5/(2*np.pi*f_bw) #ignore\n",
    "print('settling time =', round(t_settle/1e-6, 3), 'µs')"
   ]
  },
  {
   "cell_type": "code",
   "execution_count": 42,
   "id": "5b7059ec",
   "metadata": {},
   "outputs": [
    {
     "ename": "NameError",
     "evalue": "name 'vgs_m12' is not defined",
     "output_type": "error",
     "traceback": [
      "\u001b[31m---------------------------------------------------------------------------\u001b[39m",
      "\u001b[31mNameError\u001b[39m                                 Traceback (most recent call last)",
      "\u001b[36mCell\u001b[39m\u001b[36m \u001b[39m\u001b[32mIn[42]\u001b[39m\u001b[32m, line 2\u001b[39m\n\u001b[32m      1\u001b[39m \u001b[38;5;66;03m# calculate total rms output noise\u001b[39;00m\n\u001b[32m----> \u001b[39m\u001b[32m2\u001b[39m sth_m12 = nfet.lookup(\u001b[33m'\u001b[39m\u001b[33mSTH_GM\u001b[39m\u001b[33m'\u001b[39m, VGS=\u001b[43mvgs_m12\u001b[49m, L=l_12, VDS=VDS1, VSB=\u001b[32m0\u001b[39m) * gm_m12\n\u001b[32m      3\u001b[39m gamma_m12 = sth_m12/(\u001b[32m4\u001b[39m*\u001b[32m1.38e-23\u001b[39m*\u001b[32m300\u001b[39m*gm_m12)\n\u001b[32m      4\u001b[39m sth_m34 = pfet.lookup(\u001b[33m'\u001b[39m\u001b[33mSTH_GM\u001b[39m\u001b[33m'\u001b[39m, VGS=vgs_m34, L=l_34, VDS=VDS1, VSB=\u001b[32m0\u001b[39m) * gm_m34\n",
      "\u001b[31mNameError\u001b[39m: name 'vgs_m12' is not defined"
     ]
    }
   ],
   "source": [
    "# calculate total rms output noise\n",
    "sth_m12 = nfet.lookup('STH_GM', VGS=vgs_m12, L=l_12, VDS=VDS1, VSB=0) * gm_m12\n",
    "gamma_m12 = sth_m12/(4*1.38e-23*300*gm_m12)\n",
    "sth_m34 = pfet.lookup('STH_GM', VGS=vgs_m34, L=l_34, VDS=VDS1, VSB=0) * gm_m34\n",
    "gamma_m34 = sth_m34/(4*1.38e-23*300*gm_m34)\n",
    "output_noise_rms = np.sqrt(1.38e-23*300 / (c_load + c_load_parasitic) * (2*gamma_m12 + 2*gamma_m34*gm_m34/gm_m12))\n",
    "print('output noise =', round(output_noise_rms/1e-6, 1), 'µVrms')\n"
   ]
  },
  {
   "cell_type": "code",
   "execution_count": 43,
   "id": "a2249cdc",
   "metadata": {},
   "outputs": [
    {
     "name": "stdout",
     "output_type": "stream",
     "text": [
      "w_mirror = 15.19\n",
      "w_diff = 15.19\n",
      "w_amp = 5.46\n",
      "w_hystersis = 10.93\n",
      "w_nop = 5.46\n",
      "w_pop = 26.2\n"
     ]
    }
   ],
   "source": [
    "# calculate all widths\n",
    "\n",
    "#Current Mirror Width\n",
    "id_w_mirror = pfet.lookup('ID_W', GM_ID=gm_id_mirror, L=l_mirror, VDS=vgs_mirror, VSB=0)\n",
    "w_mirror = I_m / id_w_mirror\n",
    "print ('w_mirror =', round(w_mirror, 2))\n",
    "\n",
    "#Diff Pair Width\n",
    "id_w_diff = pfet.lookup('ID_W', GM_ID=gm_id_diff, L=l_diff, VDS=vgs_diff, VSB=0)\n",
    "w_diff = I_m / id_w_diff\n",
    "print ('w_diff =', round(w_diff, 2))\n",
    "\n",
    "#Amp Width\n",
    "id_w_amp = nfet.lookup('ID_W', GM_ID=gm_id_amp, L=l_amp, VDS=vgs_amp, VSB=0)\n",
    "w_amp = I_m / id_w_amp\n",
    "print ('w_amp =', round(w_amp, 2))\n",
    "\n",
    "#Hystersis\n",
    "w_hystersis = w_amp * 2 #decent rule of thumb to ensure that the current is larger than amp fets\n",
    "print('w_hystersis =', round(w_hystersis, 2))\n",
    "\n",
    "#Output Transistor Width\n",
    "id_w_nop = nfet.lookup('ID_W', GM_ID=gm_id_nop, L=l_nop, VDS=vgs_nop, VSB=0)\n",
    "w_nop = I_m / id_w_nop\n",
    "print ('w_nop =', round(w_nop, 2))\n",
    "\n",
    "id_w_pop = pfet.lookup('ID_W', GM_ID=gm_id_pop, L=l_pop, VDS=vgs_pop, VSB=0)\n",
    "w_pop = I_m / id_w_pop\n",
    "print ('w_pop =', round(w_pop, 1))\n"
   ]
  }
 ],
 "metadata": {
  "kernelspec": {
   "display_name": "Python 3",
   "language": "python",
   "name": "python3"
  },
  "language_info": {
   "codemirror_mode": {
    "name": "ipython",
    "version": 3
   },
   "file_extension": ".py",
   "mimetype": "text/x-python",
   "name": "python",
   "nbconvert_exporter": "python",
   "pygments_lexer": "ipython3",
   "version": "3.13.3"
  }
 },
 "nbformat": 4,
 "nbformat_minor": 5
}
